{
 "cells": [
  {
   "cell_type": "markdown",
   "metadata": {},
   "source": [
    "1.Declare two variables, `x` and `y`, and assign them integer values. Swap the\n",
    "values of these variables without using any temporary variable.\n",
    "2.Create a program that calculates the area of a rectangle. Take the length and\n",
    "width as inputs from the user and store them in variables. Calculate and\n",
    "display the area.\n",
    "3.Write a Python program that converts temperatures from Celsius to\n",
    "Fahrenheit. Take the temperature in Celsius as input, store it in a variable,\n",
    "convert it to Fahrenheit, and display the result."
   ]
  },
  {
   "cell_type": "code",
   "execution_count": 2,
   "metadata": {},
   "outputs": [
    {
     "name": "stdout",
     "output_type": "stream",
     "text": [
      "x value: 10 \n",
      "\n",
      "y value: 20 \n",
      "\n",
      "after swapping xa nd y values\n",
      "\n",
      "x value: 20 \n",
      "\n",
      "y value: 10\n"
     ]
    }
   ],
   "source": [
    "#declaring and assign values to x and y\n",
    "x=10\n",
    "y=20\n",
    "print('x value:',x,'\\n') #display x and y values\n",
    "print('y value:',y,'\\n')\n",
    "x,y=y,x                       #swapping x and y values\n",
    "print('after swapping xa nd y values\\n')\n",
    "print('x value:',x,'\\n')\n",
    "print('y value:',y)"
   ]
  },
  {
   "cell_type": "code",
   "execution_count": 3,
   "metadata": {},
   "outputs": [
    {
     "name": "stdout",
     "output_type": "stream",
     "text": [
      "enter length of rectangle:7\n",
      "enter width of rectangle:6\n",
      "area of rectangle: 42.0\n"
     ]
    }
   ],
   "source": [
    "#Area of rectangle\n",
    "length=float(input('enter length of rectangle:'))  #input as length\n",
    "width=float(input('enter width of rectangle:'))   #input as rectangle\n",
    "area=length*width      #area=length*width\n",
    "print('area of rectangle:',area)"
   ]
  },
  {
   "cell_type": "code",
   "execution_count": 1,
   "metadata": {},
   "outputs": [
    {
     "name": "stdout",
     "output_type": "stream",
     "text": [
      "Enter the Temperature in Celsius :67\n",
      "Temperature in Fahrenheit : 152.60000000000002\n"
     ]
    }
   ],
   "source": [
    "celsius = int(input(\"Enter the Temperature in Celsius :\")) #take input as celsius\n",
    "fahrenheit = (1.8 * celsius) + 32 #to convert celsius to fohrenheit\n",
    "print(\"Temperature in Fahrenheit :\", fahrenheit)"
   ]
  },
  {
   "cell_type": "markdown",
   "metadata": {},
   "source": [
    "1.Write a Python program that takes a string as input and prints the length of\n",
    "the string.\n",
    "2.Create a program that takes a sentence from the user and counts the number\n",
    "of vowels (a, e, i, o, u) in the string.\n",
    "3.Given a string, reverse the order of characters using string slicing and print\n",
    "the reversed string.\n",
    "4.Write a program that takes a string as input and checks if it is a palindrome\n",
    "(reads the same forwards and backwards).\n",
    "5.Create a program that takes a string as input and removes all the spaces from\n",
    "it.Print the modified string without spaces."
   ]
  },
  {
   "cell_type": "code",
   "execution_count": 3,
   "metadata": {},
   "outputs": [
    {
     "name": "stdout",
     "output_type": "stream",
     "text": [
      "Enter any string:DATASCIENCE\n",
      "length of the given string: 11\n"
     ]
    }
   ],
   "source": [
    "string=input('Enter any string:') # taking input from user\n",
    "count=0   # to count the numberof elements in a string\n",
    "for i in string:   #traverse through a string\n",
    "    count+=1\n",
    "print('length of the given string:',count)"
   ]
  },
  {
   "cell_type": "code",
   "execution_count": 6,
   "metadata": {},
   "outputs": [
    {
     "name": "stdout",
     "output_type": "stream",
     "text": [
      "Enter a sentence:Pwskills Fullstack Datascience pro\n",
      "number of vowels present in given sentence= 9\n"
     ]
    }
   ],
   "source": [
    "sen=input('Enter a sentence:')  #taking input from user\n",
    "vowel=0        #intially vowels are 0\n",
    "for i in sen:\n",
    "    if i in ('a','e','i','o','u','A','E','I','O','U'):   #checking condition\n",
    "        vowel+=1  #counting number of vowels\n",
    "print('number of vowels present in given sentence=',vowel)"
   ]
  },
  {
   "cell_type": "code",
   "execution_count": 7,
   "metadata": {},
   "outputs": [
    {
     "name": "stdout",
     "output_type": "stream",
     "text": [
      "enter any string:vanitha sree\n",
      "reverse of given string: eers ahtinav\n"
     ]
    }
   ],
   "source": [
    "string=input('enter any string:') # taking input from user\n",
    "revstring=string[::-1]              #reversing the string using slicing\n",
    "print('reverse of given string:',revstring)"
   ]
  },
  {
   "cell_type": "code",
   "execution_count": 8,
   "metadata": {},
   "outputs": [
    {
     "name": "stdout",
     "output_type": "stream",
     "text": [
      "enter any string:madam\n",
      "madam is palindrome\n"
     ]
    }
   ],
   "source": [
    "string=input('enter any string:')   #taking input from user\n",
    "rev_string=''    #empty string\n",
    "for i in string:\n",
    "    rev_string=i+rev_string    # reversing a string by appending\n",
    "if rev_string==string:   #checking condition  \n",
    "    print(string,'is palindrome')\n",
    "else:\n",
    "    print(string,'is not palindrome')"
   ]
  },
  {
   "cell_type": "code",
   "execution_count": 16,
   "metadata": {},
   "outputs": [
    {
     "name": "stdout",
     "output_type": "stream",
     "text": [
      "Enter a string with spaces:v a n i tha kotla\n",
      "modified string: vanithakotla\n"
     ]
    }
   ],
   "source": [
    "string=input('Enter a string with spaces:') #take input as string with spaces\n",
    "m_string=string.replace(\" \",'')    #replace white spaces we can also that using strip()\n",
    "print('modified string:',m_string)"
   ]
  }
 ],
 "metadata": {
  "kernelspec": {
   "display_name": "Python 3",
   "language": "python",
   "name": "python3"
  },
  "language_info": {
   "codemirror_mode": {
    "name": "ipython",
    "version": 3
   },
   "file_extension": ".py",
   "mimetype": "text/x-python",
   "name": "python",
   "nbconvert_exporter": "python",
   "pygments_lexer": "ipython3",
   "version": "3.7.3"
  }
 },
 "nbformat": 4,
 "nbformat_minor": 2
}
